{
 "cells": [
  {
   "cell_type": "markdown",
   "metadata": {},
   "source": [
    "# Image Classifier with CNN"
   ]
  },
  {
   "cell_type": "markdown",
   "metadata": {},
   "source": [
    "#### Import libraries for preprocessing data"
   ]
  },
  {
   "cell_type": "code",
   "execution_count": 58,
   "metadata": {},
   "outputs": [],
   "source": [
    "from sklearn.datasets import load_files\n",
    "from sklearn.model_selection import train_test_split\n",
    "import numpy as np\n",
    "from glob import glob\n",
    "from PIL import ImageFile\n",
    "import random\n",
    "from tqdm import tqdm\n",
    "from keras.preprocessing import image\n",
    "from keras.utils import np_utils\n",
    "from keras.layers import Conv2D, MaxPooling2D, GlobalAveragePooling2D\n",
    "from keras.layers import Dropout, Flatten, Dense\n",
    "from keras.models import Sequential\n",
    "from keras.callbacks import ModelCheckpoint\n",
    "\n",
    "random.seed(340958234985)\n",
    "np.random.seed(2093846)"
   ]
  },
  {
   "cell_type": "markdown",
   "metadata": {},
   "source": [
    "#### Load data from files"
   ]
  },
  {
   "cell_type": "code",
   "execution_count": 59,
   "metadata": {},
   "outputs": [
    {
     "name": "stdout",
     "output_type": "stream",
     "text": [
      "5 image categories.\n",
      "Three categories:\n",
      "['images\\\\Apple Braeburn\\\\', 'images\\\\Apple Crimson Snow\\\\', 'images\\\\Apple Golden 1\\\\']\n",
      "2401 images.\n",
      "\n",
      "1440 training images.\n",
      "480 validation images.\n",
      "481 test images.\n"
     ]
    }
   ],
   "source": [
    "image_names = [item.replace('images/', '') for item in sorted(glob(\"images/*/\"))]\n",
    "number_of_image_categories = len(image_names)\n",
    "print('%d image categories.' % number_of_image_categories)\n",
    "print('Three categories:')\n",
    "print(image_names[:3])\n",
    "\n",
    "def load_dataset(path):\n",
    "    data = load_files(path)\n",
    "    image_files = np.array(data['filenames'])\n",
    "    image_targets = np_utils.to_categorical(np.array(data['target']), number_of_image_categories)\n",
    "    return image_files, image_targets\n",
    "\n",
    "\n",
    "image_files, image_targets = load_dataset('images')\n",
    "\n",
    "trains_validate_files, test_files, trains_validate_targets, test_targets = \\\n",
    "    train_test_split(image_files, image_targets, test_size=0.2, random_state=42)\n",
    "\n",
    "train_files, valid_files, train_targets, valid_targets = \\\n",
    "    train_test_split(trains_validate_files, trains_validate_targets, test_size=0.25, random_state=42)\n",
    "\n",
    "image_names = [item[20:-1] for item in sorted(glob(\"images/*/\"))]\n",
    "\n",
    "print('%s images.\\n' % len(np.hstack([train_files, valid_files, test_files])))\n",
    "print('%d training images.' % len(train_files))\n",
    "print('%d validation images.' % len(valid_files))\n",
    "print('%d test images.'% len(test_files))"
   ]
  },
  {
   "cell_type": "markdown",
   "metadata": {},
   "source": [
    "#### Define function for preprocessing images"
   ]
  },
  {
   "cell_type": "code",
   "execution_count": 60,
   "metadata": {},
   "outputs": [],
   "source": [
    "def path_to_tensor(img_path):\n",
    "\n",
    "    img = image.load_img(img_path, target_size=(100, 100))\n",
    "    img_array = image.img_to_array(img)\n",
    "\n",
    "    return np.expand_dims(img_array, axis=0)\n",
    "\n",
    "def paths_to_tensor(img_paths):\n",
    "    \n",
    "    list_of_tensors = [path_to_tensor(img_path) for img_path in tqdm(img_paths)]\n",
    "    return np.vstack(list_of_tensors)"
   ]
  },
  {
   "cell_type": "markdown",
   "metadata": {},
   "source": [
    "#### Preprocess images"
   ]
  },
  {
   "cell_type": "code",
   "execution_count": 61,
   "metadata": {},
   "outputs": [
    {
     "name": "stderr",
     "output_type": "stream",
     "text": [
      "100%|████████████████████████████████████████████████████████████████████████████| 1440/1440 [00:00<00:00, 1563.44it/s]\n",
      "100%|██████████████████████████████████████████████████████████████████████████████| 480/480 [00:00<00:00, 1430.97it/s]\n",
      "100%|██████████████████████████████████████████████████████████████████████████████| 481/481 [00:00<00:00, 1544.62it/s]\n"
     ]
    }
   ],
   "source": [
    "ImageFile.LOAD_TRUNCATED_IMAGES = True                 \n",
    "\n",
    "train_tensors = paths_to_tensor(train_files).astype('float32')/255\n",
    "valid_tensors = paths_to_tensor(valid_files).astype('float32')/255\n",
    "test_tensors = paths_to_tensor(test_files).astype('float32')/255"
   ]
  },
  {
   "cell_type": "markdown",
   "metadata": {},
   "source": [
    "#### Define neural network model"
   ]
  },
  {
   "cell_type": "code",
   "execution_count": 62,
   "metadata": {},
   "outputs": [
    {
     "name": "stdout",
     "output_type": "stream",
     "text": [
      "_________________________________________________________________\n",
      "Layer (type)                 Output Shape              Param #   \n",
      "=================================================================\n",
      "conv2d_9 (Conv2D)            (None, 100, 100, 4)       52        \n",
      "_________________________________________________________________\n",
      "max_pooling2d_9 (MaxPooling2 (None, 50, 50, 4)         0         \n",
      "_________________________________________________________________\n",
      "conv2d_10 (Conv2D)           (None, 50, 50, 8)         136       \n",
      "_________________________________________________________________\n",
      "max_pooling2d_10 (MaxPooling (None, 25, 25, 8)         0         \n",
      "_________________________________________________________________\n",
      "dropout_9 (Dropout)          (None, 25, 25, 8)         0         \n",
      "_________________________________________________________________\n",
      "conv2d_11 (Conv2D)           (None, 25, 25, 12)        396       \n",
      "_________________________________________________________________\n",
      "max_pooling2d_11 (MaxPooling (None, 12, 12, 12)        0         \n",
      "_________________________________________________________________\n",
      "dropout_10 (Dropout)         (None, 12, 12, 12)        0         \n",
      "_________________________________________________________________\n",
      "conv2d_12 (Conv2D)           (None, 12, 12, 16)        784       \n",
      "_________________________________________________________________\n",
      "max_pooling2d_12 (MaxPooling (None, 6, 6, 16)          0         \n",
      "_________________________________________________________________\n",
      "dropout_11 (Dropout)         (None, 6, 6, 16)          0         \n",
      "_________________________________________________________________\n",
      "flatten_3 (Flatten)          (None, 576)               0         \n",
      "_________________________________________________________________\n",
      "dense_5 (Dense)              (None, 256)               147712    \n",
      "_________________________________________________________________\n",
      "dropout_12 (Dropout)         (None, 256)               0         \n",
      "_________________________________________________________________\n",
      "dense_6 (Dense)              (None, 5)                 1285      \n",
      "=================================================================\n",
      "Total params: 150,365\n",
      "Trainable params: 150,365\n",
      "Non-trainable params: 0\n",
      "_________________________________________________________________\n"
     ]
    }
   ],
   "source": [
    "model = Sequential()\n",
    "\n",
    "model.add(Conv2D(filters=4, kernel_size=2, padding='same',\n",
    "                 activation='relu', input_shape=(100, 100, 3)))\n",
    "model.add(MaxPooling2D(pool_size=2))\n",
    "\n",
    "model.add(Conv2D(filters=8, kernel_size=2, padding='same', activation='relu'))\n",
    "model.add(MaxPooling2D(pool_size=2))\n",
    "model.add(Dropout(0.1))\n",
    "\n",
    "model.add(Conv2D(filters=12, kernel_size=2, padding='same', activation='relu'))\n",
    "model.add(MaxPooling2D(pool_size=2))\n",
    "model.add(Dropout(0.2))\n",
    "\n",
    "model.add(Conv2D(filters=16, kernel_size=2, padding='same', activation='relu'))\n",
    "model.add(MaxPooling2D(pool_size=2))\n",
    "model.add(Dropout(0.3))\n",
    "\n",
    "model.add(Flatten())\n",
    "model.add(Dense(256, activation='relu'))\n",
    "model.add(Dropout(0.4))\n",
    "\n",
    "model.add(Dense(5, activation='softmax'))\n",
    "\n",
    "\n",
    "model.summary()\n",
    "\n",
    "model.compile(optimizer='rmsprop', loss='categorical_crossentropy', metrics=['accuracy'])"
   ]
  },
  {
   "cell_type": "markdown",
   "metadata": {},
   "source": [
    "#### Train the model with training and validating images"
   ]
  },
  {
   "cell_type": "code",
   "execution_count": 17,
   "metadata": {},
   "outputs": [
    {
     "name": "stdout",
     "output_type": "stream",
     "text": [
      "Train on 1440 samples, validate on 480 samples\n",
      "Epoch 1/5\n",
      "1440/1440 [==============================] - ETA: 4s - loss: 0.4812 - acc: 0.859 - ETA: 4s - loss: 0.5360 - acc: 0.835 - ETA: 3s - loss: 0.5336 - acc: 0.822 - ETA: 3s - loss: 0.5106 - acc: 0.820 - ETA: 3s - loss: 0.5002 - acc: 0.825 - ETA: 3s - loss: 0.4769 - acc: 0.835 - ETA: 3s - loss: 0.4641 - acc: 0.837 - ETA: 2s - loss: 0.4572 - acc: 0.837 - ETA: 2s - loss: 0.4556 - acc: 0.835 - ETA: 2s - loss: 0.4536 - acc: 0.831 - ETA: 2s - loss: 0.4485 - acc: 0.833 - ETA: 2s - loss: 0.4439 - acc: 0.834 - ETA: 1s - loss: 0.4388 - acc: 0.832 - ETA: 1s - loss: 0.4310 - acc: 0.835 - ETA: 1s - loss: 0.4233 - acc: 0.839 - ETA: 1s - loss: 0.4129 - acc: 0.845 - ETA: 1s - loss: 0.4098 - acc: 0.843 - ETA: 0s - loss: 0.4038 - acc: 0.846 - ETA: 0s - loss: 0.3980 - acc: 0.849 - ETA: 0s - loss: 0.3902 - acc: 0.849 - ETA: 0s - loss: 0.3841 - acc: 0.850 - ETA: 0s - loss: 0.3806 - acc: 0.850 - 5s 4ms/step - loss: 0.3791 - acc: 0.8507 - val_loss: 0.2356 - val_acc: 0.9875\n",
      "\n",
      "Epoch 00001: val_loss improved from inf to 0.23563, saving model to saved_models/weights.best.image_classifier.hdf5\n",
      "Epoch 2/5\n",
      "1440/1440 [==============================] - ETA: 6s - loss: 0.3723 - acc: 0.859 - ETA: 5s - loss: 0.3193 - acc: 0.882 - ETA: 4s - loss: 0.3344 - acc: 0.843 - ETA: 4s - loss: 0.3454 - acc: 0.824 - ETA: 3s - loss: 0.3354 - acc: 0.828 - ETA: 3s - loss: 0.3191 - acc: 0.835 - ETA: 3s - loss: 0.3145 - acc: 0.839 - ETA: 3s - loss: 0.2977 - acc: 0.853 - ETA: 2s - loss: 0.2839 - acc: 0.866 - ETA: 2s - loss: 0.2768 - acc: 0.870 - ETA: 2s - loss: 0.2705 - acc: 0.876 - ETA: 2s - loss: 0.2666 - acc: 0.878 - ETA: 2s - loss: 0.2664 - acc: 0.876 - ETA: 1s - loss: 0.2659 - acc: 0.877 - ETA: 1s - loss: 0.2597 - acc: 0.883 - ETA: 1s - loss: 0.2575 - acc: 0.885 - ETA: 1s - loss: 0.2547 - acc: 0.886 - ETA: 0s - loss: 0.2552 - acc: 0.887 - ETA: 0s - loss: 0.2541 - acc: 0.890 - ETA: 0s - loss: 0.2517 - acc: 0.893 - ETA: 0s - loss: 0.2452 - acc: 0.898 - ETA: 0s - loss: 0.2429 - acc: 0.900 - 5s 4ms/step - loss: 0.2427 - acc: 0.9000 - val_loss: 0.1860 - val_acc: 0.9229\n",
      "\n",
      "Epoch 00002: val_loss improved from 0.23563 to 0.18601, saving model to saved_models/weights.best.image_classifier.hdf5\n",
      "Epoch 3/5\n",
      "1440/1440 [==============================] - ETA: 5s - loss: 0.2376 - acc: 0.843 - ETA: 4s - loss: 0.2142 - acc: 0.882 - ETA: 4s - loss: 0.2163 - acc: 0.880 - ETA: 3s - loss: 0.2132 - acc: 0.886 - ETA: 3s - loss: 0.1967 - acc: 0.906 - ETA: 3s - loss: 0.1996 - acc: 0.908 - ETA: 3s - loss: 0.1925 - acc: 0.912 - ETA: 2s - loss: 0.1936 - acc: 0.910 - ETA: 2s - loss: 0.1911 - acc: 0.914 - ETA: 2s - loss: 0.1866 - acc: 0.920 - ETA: 2s - loss: 0.1769 - acc: 0.926 - ETA: 2s - loss: 0.1768 - acc: 0.923 - ETA: 1s - loss: 0.1957 - acc: 0.911 - ETA: 1s - loss: 0.1998 - acc: 0.908 - ETA: 1s - loss: 0.1949 - acc: 0.913 - ETA: 1s - loss: 0.1886 - acc: 0.918 - ETA: 1s - loss: 0.1850 - acc: 0.921 - ETA: 0s - loss: 0.1830 - acc: 0.923 - ETA: 0s - loss: 0.1903 - acc: 0.921 - ETA: 0s - loss: 0.1890 - acc: 0.923 - ETA: 0s - loss: 0.1865 - acc: 0.926 - ETA: 0s - loss: 0.1810 - acc: 0.929 - 5s 3ms/step - loss: 0.1786 - acc: 0.9306 - val_loss: 0.0945 - val_acc: 0.9979\n",
      "\n",
      "Epoch 00003: val_loss improved from 0.18601 to 0.09447, saving model to saved_models/weights.best.image_classifier.hdf5\n",
      "Epoch 4/5\n",
      "1440/1440 [==============================] - ETA: 6s - loss: 0.1123 - acc: 0.984 - ETA: 5s - loss: 0.1153 - acc: 0.984 - ETA: 4s - loss: 0.1111 - acc: 0.979 - ETA: 4s - loss: 0.1059 - acc: 0.984 - ETA: 3s - loss: 0.1013 - acc: 0.987 - ETA: 3s - loss: 0.0977 - acc: 0.989 - ETA: 3s - loss: 0.0979 - acc: 0.986 - ETA: 3s - loss: 0.0955 - acc: 0.986 - ETA: 2s - loss: 0.0977 - acc: 0.982 - ETA: 2s - loss: 0.1052 - acc: 0.978 - ETA: 2s - loss: 0.1368 - acc: 0.961 - ETA: 2s - loss: 0.1439 - acc: 0.954 - ETA: 1s - loss: 0.1396 - acc: 0.955 - ETA: 1s - loss: 0.1353 - acc: 0.956 - ETA: 1s - loss: 0.1321 - acc: 0.958 - ETA: 1s - loss: 0.1274 - acc: 0.960 - ETA: 1s - loss: 0.1243 - acc: 0.962 - ETA: 0s - loss: 0.1196 - acc: 0.964 - ETA: 0s - loss: 0.1156 - acc: 0.966 - ETA: 0s - loss: 0.1137 - acc: 0.966 - ETA: 0s - loss: 0.1140 - acc: 0.965 - ETA: 0s - loss: 0.1142 - acc: 0.963 - 5s 4ms/step - loss: 0.1126 - acc: 0.9646 - val_loss: 0.0541 - val_acc: 0.9979\n",
      "\n",
      "Epoch 00004: val_loss improved from 0.09447 to 0.05413, saving model to saved_models/weights.best.image_classifier.hdf5\n",
      "Epoch 5/5\n",
      "1440/1440 [==============================] - ETA: 4s - loss: 0.0602 - acc: 1.000 - ETA: 4s - loss: 0.0604 - acc: 0.992 - ETA: 4s - loss: 0.0708 - acc: 0.989 - ETA: 3s - loss: 0.0739 - acc: 0.992 - ETA: 3s - loss: 0.0726 - acc: 0.987 - ETA: 3s - loss: 0.0786 - acc: 0.984 - ETA: 3s - loss: 0.0787 - acc: 0.982 - ETA: 2s - loss: 0.0823 - acc: 0.980 - ETA: 2s - loss: 0.0831 - acc: 0.980 - ETA: 2s - loss: 0.0868 - acc: 0.973 - ETA: 2s - loss: 0.0922 - acc: 0.970 - ETA: 2s - loss: 0.0917 - acc: 0.970 - ETA: 1s - loss: 0.0891 - acc: 0.972 - ETA: 1s - loss: 0.0875 - acc: 0.973 - ETA: 1s - loss: 0.0863 - acc: 0.975 - ETA: 1s - loss: 0.0859 - acc: 0.974 - ETA: 1s - loss: 0.0838 - acc: 0.975 - ETA: 0s - loss: 0.0816 - acc: 0.976 - ETA: 0s - loss: 0.0799 - acc: 0.977 - ETA: 0s - loss: 0.0824 - acc: 0.976 - ETA: 0s - loss: 0.0879 - acc: 0.974 - ETA: 0s - loss: 0.0902 - acc: 0.970 - 5s 4ms/step - loss: 0.0895 - acc: 0.9715 - val_loss: 0.0282 - val_acc: 0.9979\n",
      "\n",
      "Epoch 00005: val_loss improved from 0.05413 to 0.02821, saving model to saved_models/weights.best.image_classifier.hdf5\n"
     ]
    },
    {
     "data": {
      "text/plain": [
       "<keras.callbacks.History at 0x21540f78630>"
      ]
     },
     "execution_count": 17,
     "metadata": {},
     "output_type": "execute_result"
    }
   ],
   "source": [
    "epochs = 5\n",
    "\n",
    "checkpointer = ModelCheckpoint(filepath='saved_models/weights.best.image_classifier.hdf5',\n",
    "                               verbose=1, save_best_only=True)\n",
    "\n",
    "model.fit(train_tensors, train_targets, validation_data=(valid_tensors, valid_targets),\n",
    "          epochs=epochs, batch_size=64, callbacks=[checkpointer], verbose=1)"
   ]
  },
  {
   "cell_type": "markdown",
   "metadata": {},
   "source": [
    "#### Show result on testing set"
   ]
  },
  {
   "cell_type": "code",
   "execution_count": 33,
   "metadata": {},
   "outputs": [
    {
     "name": "stdout",
     "output_type": "stream",
     "text": [
      "Test accuracy: 100.0000%\n"
     ]
    }
   ],
   "source": [
    "model.load_weights('saved_models/weights.best.image_classifier.hdf5')\n",
    "\n",
    "predictions = [np.argmax(model.predict(np.expand_dims(tensor, axis=0))) for tensor in test_tensors]\n",
    "\n",
    "test_accuracy = 100*np.sum(np.array(predictions)==np.argmax(test_targets, axis=1))/len(predictions)\n",
    "print('Test accuracy: %.4f%%' % test_accuracy)"
   ]
  },
  {
   "cell_type": "code",
   "execution_count": null,
   "metadata": {},
   "outputs": [],
   "source": []
  },
  {
   "cell_type": "code",
   "execution_count": null,
   "metadata": {},
   "outputs": [],
   "source": []
  },
  {
   "cell_type": "code",
   "execution_count": null,
   "metadata": {},
   "outputs": [],
   "source": []
  },
  {
   "cell_type": "code",
   "execution_count": null,
   "metadata": {},
   "outputs": [],
   "source": []
  },
  {
   "cell_type": "code",
   "execution_count": 63,
   "metadata": {},
   "outputs": [
    {
     "name": "stdout",
     "output_type": "stream",
     "text": [
      "Train on 1440 samples, validate on 480 samples\n",
      "Epoch 1/5\n",
      "1440/1440 [==============================] - ETA: 1s - loss: 0.0411 - acc: 0.992 - ETA: 0s - loss: 0.5522 - acc: 0.871 - 3s 2ms/step - loss: 0.5114 - acc: 0.8813 - val_loss: 0.0355 - val_acc: 0.9979\n",
      "\n",
      "Epoch 00001: val_loss improved from inf to 0.03548, saving model to saved_models/weights.best.image_classifier.hdf5\n",
      "Epoch 2/5\n",
      "1440/1440 [==============================] - ETA: 0s - loss: 0.0545 - acc: 0.993 - ETA: 0s - loss: 0.0457 - acc: 0.995 - 2s 1ms/step - loss: 0.0449 - acc: 0.9958 - val_loss: 0.0322 - val_acc: 0.9958\n",
      "\n",
      "Epoch 00002: val_loss improved from 0.03548 to 0.03223, saving model to saved_models/weights.best.image_classifier.hdf5\n",
      "Epoch 3/5\n",
      "1440/1440 [==============================] - ETA: 1s - loss: 0.0429 - acc: 0.992 - ETA: 0s - loss: 0.0382 - acc: 0.994 - 2s 1ms/step - loss: 0.0378 - acc: 0.9944 - val_loss: 0.0247 - val_acc: 0.9979\n",
      "\n",
      "Epoch 00003: val_loss improved from 0.03223 to 0.02473, saving model to saved_models/weights.best.image_classifier.hdf5\n",
      "Epoch 4/5\n",
      "1440/1440 [==============================] - ETA: 1s - loss: 0.0355 - acc: 0.992 - ETA: 0s - loss: 0.0339 - acc: 0.993 - 2s 1ms/step - loss: 0.0341 - acc: 0.9938 - val_loss: 0.0242 - val_acc: 0.9979\n",
      "\n",
      "Epoch 00004: val_loss improved from 0.02473 to 0.02421, saving model to saved_models/weights.best.image_classifier.hdf5\n",
      "Epoch 5/5\n",
      "1440/1440 [==============================] - ETA: 0s - loss: 0.0311 - acc: 0.993 - ETA: 0s - loss: 0.0283 - acc: 0.996 - 2s 1ms/step - loss: 0.0287 - acc: 0.9951 - val_loss: 0.0199 - val_acc: 0.9979\n",
      "\n",
      "Epoch 00005: val_loss improved from 0.02421 to 0.01992, saving model to saved_models/weights.best.image_classifier.hdf5\n",
      "dict_keys(['val_loss', 'val_acc', 'loss', 'acc'])\n"
     ]
    },
    {
     "data": {
      "image/png": "[encoded data removed]",
      "text/plain": [
       "<Figure size 432x288 with 1 Axes>"
      ]
     },
     "metadata": {
      "needs_background": "light"
     },
     "output_type": "display_data"
    },
    {
     "data": {
      "image/png": "[encoded data removed]",
      "text/plain": [
       "<Figure size 432x288 with 1 Axes>"
      ]
     },
     "metadata": {
      "needs_background": "light"
     },
     "output_type": "display_data"
    }
   ],
   "source": [
    "model.load_weights('saved_models/weights.best.image_classifier.hdf5')\n",
    "\n",
    "epochs = 5\n",
    "\n",
    "checkpointer = ModelCheckpoint(filepath='saved_models/weights.best.image_classifier.hdf5',\n",
    "                               verbose=1, save_best_only=True)\n",
    "\n",
    "history = model.fit(train_tensors, train_targets, validation_data=(valid_tensors, valid_targets),\n",
    "          epochs=epochs, batch_size=660, callbacks=[checkpointer], verbose=1)\n",
    "\n",
    "print(history.history.keys())\n",
    "\n",
    "import matplotlib.pyplot as plt\n",
    "# summarize history for accuracy\n",
    "plt.plot(history.history['acc'])\n",
    "plt.plot(history.history['val_acc'])\n",
    "plt.title('model accuracy')\n",
    "plt.ylabel('accuracy')\n",
    "plt.xlabel('epoch')\n",
    "plt.legend(['train', 'test'], loc='upper left')\n",
    "plt.show()\n",
    "\n",
    "# summarize history for loss\n",
    "plt.plot(history.history['loss'])\n",
    "plt.plot(history.history['val_loss'])\n",
    "plt.title('model loss')\n",
    "plt.ylabel('loss')\n",
    "plt.xlabel('epoch')\n",
    "plt.legend(['train', 'test'], loc='upper left')\n",
    "plt.show()"
   ]
  },
  {
   "cell_type": "code",
   "execution_count": null,
   "metadata": {},
   "outputs": [],
   "source": []
  }
 ],
 "metadata": {
  "kernelspec": {
   "display_name": "Python 3",
   "language": "python",
   "name": "python3"
  },
  "language_info": {
   "codemirror_mode": {
    "name": "ipython",
    "version": 3
   },
   "file_extension": ".py",
   "mimetype": "text/x-python",
   "name": "python",
   "nbconvert_exporter": "python",
   "pygments_lexer": "ipython3",
   "version": "3.7.3"
  }
 },
 "nbformat": 4,
 "nbformat_minor": 2
}
